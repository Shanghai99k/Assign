{
 "cells": [
  {
   "cell_type": "code",
   "execution_count": 1,
   "id": "ff1428a1",
   "metadata": {},
   "outputs": [],
   "source": [
    "from nltk.tag import tnt\n",
    "from nltk.corpus import indian\n",
    "import nltk\n",
    "import pandas as pd\n",
    "import numpy as np\n",
    "text = \"hindi text\"\n",
    "def hindi_model():\n",
    "    train_data = indian.tagged_sents('hindi.pos')\n",
    "    tnt_pos_tagger = tnt.TnT()\n",
    "    tnt_pos_tagger.train(train_data)\n",
    "    return tnt_pos_tagger\n",
    "\n"
   ]
  },
  {
   "cell_type": "code",
   "execution_count": 2,
   "id": "bf7e745f",
   "metadata": {},
   "outputs": [
    {
     "data": {
      "text/plain": [
       "['hindi', 'text']"
      ]
     },
     "execution_count": 2,
     "metadata": {},
     "output_type": "execute_result"
    }
   ],
   "source": [
    "nltk.word_tokenize(text)\n"
   ]
  },
  {
   "cell_type": "code",
   "execution_count": null,
   "id": "f29d5294",
   "metadata": {},
   "outputs": [],
   "source": [
    "model = hindi_model()\n",
    "new_tagged = (model.tag(nltk.word_tokenize(text)))\n",
    "array = np.array(new_tagged)\n",
    "for i in array:\n",
    "    print(i[0],\" ==> \", i[1],\" \")"
   ]
  },
  {
   "cell_type": "code",
   "execution_count": null,
   "id": "67f3700f",
   "metadata": {},
   "outputs": [],
   "source": [
    "with open(\"output.txt\",\"a\") as output_file:\n",
    "    output_file.write(\"\\n[INPUT]\\n\")\n",
    "    output_file.write(text)\n",
    "    output_file.write(\"\\n[OUTPUT]\\n\")\n",
    "    output_file.write(str(new_tagged))\n",
    "        "
   ]
  },
  {
   "cell_type": "code",
   "execution_count": 5,
   "id": "020717cb",
   "metadata": {},
   "outputs": [],
   "source": [
    "engtokens = nltk.word_tokenize(\"Can you please buy me an icecream\")"
   ]
  },
  {
   "cell_type": "code",
   "execution_count": null,
   "id": "f7d2c6bb",
   "metadata": {},
   "outputs": [],
   "source": [
    "array1 = np.array(nltk.pos_tag(engtokens))\n",
    "for i in array1:\n",
    "    print(i[0],\" ==> \", i[1], \" \")"
   ]
  },
  {
   "cell_type": "code",
   "execution_count": null,
   "id": "d41a116f",
   "metadata": {},
   "outputs": [],
   "source": []
  }
 ],
 "metadata": {
  "kernelspec": {
   "display_name": "Python 3 (ipykernel)",
   "language": "python",
   "name": "python3"
  },
  "language_info": {
   "codemirror_mode": {
    "name": "ipython",
    "version": 3
   },
   "file_extension": ".py",
   "mimetype": "text/x-python",
   "name": "python",
   "nbconvert_exporter": "python",
   "pygments_lexer": "ipython3",
   "version": "3.10.9"
  }
 },
 "nbformat": 4,
 "nbformat_minor": 5
}
