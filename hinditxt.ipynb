{
 "cells": [
  {
   "cell_type": "code",
   "execution_count": null,
   "id": "afa20860",
   "metadata": {
    "vscode": {
     "languageId": "plaintext"
    }
   },
   "outputs": [],
   "source": [
    "from nltk.tag import tnt\n",
    "from nltk.corpus import indian\n",
    "import nltk\n",
    "import pandas as pd\n",
    "import numpy as np\n",
    "text = \"hindi text\"\n",
    "def hindi_model():\n",
    "    train_data = indian.tagged_sents('hindi.pos')\n",
    "    tnt_pos_tagger = tnt.TnT()\n",
    "    tnt_pos_tagger.train(train_data)\n",
    "    return tnt_pos_tagger\n",
    "nltk.word_tokenize(text)\n",
    "['hindi', 'text']\n",
    "model = hindi_model()\n",
    "new_tagged = (model.tag(nltk.word_tokenize(text)))\n",
    "array = np.array(new_tagged)\n",
    "for i in array:\n",
    "    print(i[0],\" ==> \", i[1],\" \")\n",
    "with open(\"output.txt\",\"a\") as output_file:\n",
    "    output_file.write(\"\\n[INPUT]\\n\")\n",
    "    output_file.write(text)\n",
    "    output_file.write(\"\\n[OUTPUT]\\n\")\n",
    "    output_file.write(str(new_tagged))\n",
    "        \n",
    "engtokens = nltk.word_tokenize(\"Can you please buy me an icecream\")\n",
    "array1 = np.array(nltk.pos_tag(engtokens))\n",
    "for i in array1:\n",
    "    print(i[0],\" ==> \", i[1], \" \")"
   ]
  }
 ],
 "metadata": {
  "kernelspec": {
   "display_name": "Python 3 (ipykernel)",
   "language": "python",
   "name": "python3"
  },
  "language_info": {
   "codemirror_mode": {
    "name": "ipython",
    "version": 3
   },
   "file_extension": ".py",
   "mimetype": "text/x-python",
   "name": "python",
   "nbconvert_exporter": "python",
   "pygments_lexer": "ipython3",
   "version": "3.10.9"
  }
 },
 "nbformat": 4,
 "nbformat_minor": 5
}
