{
 "cells": [
  {
   "cell_type": "code",
   "execution_count": null,
   "id": "1dd64c97",
   "metadata": {},
   "outputs": [],
   "source": [
    "import pandas as pd\n",
    "df = pd.read_csv('data.csv')\n",
    "df.head()\n",
    "df['Maker_Model'] = df['Make']+ \" \" + df['Model']\n",
    "df1 = df[['Engine Fuel Type', 'Transmission Type', 'Driven_Wheels', 'Market_Category', 'Vehicle_Size', 'Vehicle_Style']]\n",
    "df2 = df1.apply(lambda x: ','.join(x.astype(str)), axis = 1)\n",
    "df_clean = pd.DataFrame({'clean': df2})\n",
    "sent = [row.split(',') for row in df_clean['clean']]\n",
    "from genism.models.word2vec import Word2Vec\n",
    "model = Word2Vec(sent, min_count1, vector_size= 50, workers= 3, window= 3, sg= 1)\n",
    "model.save(\"word2vec.model\")\n",
    "model = Word2Vec.load(\"word2vec.model\")\n",
    "model.wv['Toyota Camry']\n",
    "sims = model.wv.most_similar('Toyota Camry', topn =10)\n",
    "sims"
   ]
  }
 ],
 "metadata": {
  "kernelspec": {
   "display_name": "Python 3 (ipykernel)",
   "language": "python",
   "name": "python3"
  },
  "language_info": {
   "codemirror_mode": {
    "name": "ipython",
    "version": 3
   },
   "file_extension": ".py",
   "mimetype": "text/x-python",
   "name": "python",
   "nbconvert_exporter": "python",
   "pygments_lexer": "ipython3",
   "version": "3.10.9"
  }
 },
 "nbformat": 4,
 "nbformat_minor": 5
}
