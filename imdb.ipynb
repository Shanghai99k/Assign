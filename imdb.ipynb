{
 "cells": [
  {
   "cell_type": "code",
   "execution_count": null,
   "id": "add9017b",
   "metadata": {},
   "outputs": [],
   "source": [
    "\n",
    "from keras.datasets import imdb\n",
    "from keras.utils import pad_sequences\n",
    "vocab_size = 5000\n",
    "(X_train, y_train), (X_test, y_test) = imdb.load_data(num_words=vocab_size)\n",
    "max_words = 500\n",
    "X_train = pad_sequences (X_train, maxlen=max_words)\n",
    "X_test = pad_sequences (X_test, maxlen=max_words)\n",
    "from keras.models import Sequential\n",
    "from keras.layers import Embedding, LSTM, Dense\n",
    "model = Sequential ()\n",
    "model.add (Embedding (vocab_size, 32, input_length-max _words)) \n",
    "model. add(LSTM(100))\n",
    "model.add(Dense(1, activation= 'sigmoid'))\n",
    "model. compile(optimizer= 'adam', loss='binary_crossentropy', metrics=('accuracy'])\n",
    "model.fit(X_train, y_train, validation_data=(X_test, y_test), epochs=5, batch_size=64)\n",
    "loss, accuracy = model.evaluate (X_test, _test, verbose=0)\n",
    "print(f'Test loss: (loss), Test accuracy: (accuracy]')\n",
    "import numpy as np\n",
    "new_test_values = ['This movvie was great!','This movie was terrible bad']\n",
    "new_test_values = [text.lower() for text in new_test_values]\n",
    "new_test_padded = pad_sequences(new_test_sequences, maxlen=max_words)\n",
    "new_test_sequences = tokenizer.texts_to_sequences(new_test_padded)\n",
    "for i in range(len(predictions)):\n",
    "    sentiment = 'positive' if predictions[i] > 0.5 else 'negative'\n",
    "    print(f'Test value {i+1} predicted sentiment: {sentiment}')"
   ]
  }
 ],
 "metadata": {
  "kernelspec": {
   "display_name": "Python 3 (ipykernel)",
   "language": "python",
   "name": "python3"
  },
  "language_info": {
   "codemirror_mode": {
    "name": "ipython",
    "version": 3
   },
   "file_extension": ".py",
   "mimetype": "text/x-python",
   "name": "python",
   "nbconvert_exporter": "python",
   "pygments_lexer": "ipython3",
   "version": "3.10.9"
  }
 },
 "nbformat": 4,
 "nbformat_minor": 5
}
