{
 "cells": [
  {
   "cell_type": "code",
   "execution_count": null,
   "id": "18c5d604",
   "metadata": {},
   "outputs": [],
   "source": [
    "import numpy as np\n",
    "import tensorflow as tf\n",
    "from keras.utils import to_categorical\n",
    "from keras. datasets import cifar10\n",
    "\n",
    "(X_train, y_train), (X_test, y_test) = cifar10. load_data()\n",
    "y_train = to_categorical (y_train, num_classes=10)\n",
    "y_test = to_categorical (_test, num_classes=10)\n",
    "# Convert the data to float3\n",
    "X_train = X_train.astype('float32')\n",
    "X_test = X_test. astype ('float32')\n",
    "# Normalize the data\n",
    "X_train /= 255\n",
    "X_test /= 255\n",
    "from keras.models import Sequential\n",
    "from keras.layers import Conv2d, MaxPooling2D, Flatten, Dense, Dropout\n",
    "# Define the model architecture\n",
    "model = Sequential ()\n",
    "model.add (Conv2D (32, (3, 3), activation= 'relu', padding=' same, input_shape-X train. shape[1:]\n",
    "model.add(Conv2D(32, (3, 3), activation='relu', padding= 'same'))\n",
    "model.add(MaxPooling2D (pool_size= (2, 2)))\n",
    "model.add(Dropout (0.25))\n",
    "model.add(Conv2D(64, (3, 3), activation='relu', padding= 'same'))\n",
    "model.add(Conv2D(64, (3, 3), activation= 'relu', padding= ' same\"))\n",
    "model.add(MaxPooling2D(pool_size= (2, 2)))\n",
    "model.add(Dropout(0.25))\n",
    "model.add(Flatten())\n",
    "model.add(Dense(512, activation='relu'))\n",
    "model.add(Dropout(0.5))\n",
    "model.add(Dense(10, activation='softmax'))\n",
    "# Compile the model\n",
    "model.compile(optimizer=' adam', loss='categorical_crossentropy', metrics=['accuracy' 1])\n",
    "#train the model\n",
    "history = model.fit(X_train, y_train, batch_size=128, epochs = 10, validation_data =  X_test, y_test)\n",
    "loss, accuracy = model.evaluate( X_test, y_test, verbose=0)\n",
    "print(f'Test loss: {loss}, Test accuracy:{accuracy}')\n",
    "    model.predict( X_test)"
   ]
  }
 ],
 "metadata": {
  "kernelspec": {
   "display_name": "Python 3 (ipykernel)",
   "language": "python",
   "name": "python3"
  },
  "language_info": {
   "codemirror_mode": {
    "name": "ipython",
    "version": 3
   },
   "file_extension": ".py",
   "mimetype": "text/x-python",
   "name": "python",
   "nbconvert_exporter": "python",
   "pygments_lexer": "ipython3",
   "version": "3.10.9"
  }
 },
 "nbformat": 4,
 "nbformat_minor": 5
}
